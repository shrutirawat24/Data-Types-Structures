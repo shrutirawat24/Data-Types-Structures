{
  "nbformat": 4,
  "nbformat_minor": 0,
  "metadata": {
    "colab": {
      "provenance": [],
      "authorship_tag": "ABX9TyPYvdJvIQvLcnDINluZex+b",
      "include_colab_link": true
    },
    "kernelspec": {
      "name": "python3",
      "display_name": "Python 3"
    },
    "language_info": {
      "name": "python"
    }
  },
  "cells": [
    {
      "cell_type": "markdown",
      "metadata": {
        "id": "view-in-github",
        "colab_type": "text"
      },
      "source": [
        "<a href=\"https://colab.research.google.com/github/shrutirawat24/Data-Types-Structures/blob/main/Assignment5(Files%2C_exceptional_handling%2C_logging_and_memory_management).ipynb\" target=\"_parent\"><img src=\"https://colab.research.google.com/assets/colab-badge.svg\" alt=\"Open In Colab\"/></a>"
      ]
    },
    {
      "cell_type": "code",
      "execution_count": null,
      "metadata": {
        "id": "2mPzDm_kfDdp"
      },
      "outputs": [],
      "source": [
        "#ASSIGNMENT5 (Files, exceptional handling,logging & memory management)\n"
      ]
    },
    {
      "cell_type": "markdown",
      "source": [
        "#Theory question answers"
      ],
      "metadata": {
        "id": "cpY_-qBbfewv"
      }
    },
    {
      "cell_type": "markdown",
      "source": [
        "Q1 What is the difference between interpreted and compiled languages?\n",
        "\n",
        "Ans\n",
        "An interpreted language is a programming language that is generally interpreted, without compiling a program into machine instructions. It is one where the instructions are not directly executed by the target machine, but instead, read and executed by some other program.\n",
        "\n",
        "While a compiled language is a programming language that is generally compiled and not interpreted. It is one where the program, once compiled, is expressed in the instructions of the target machine; this machine code is undecipherable by humans.\n",
        "\n",
        "Q2 What is exception handling in Python?\n",
        "\n",
        "Ans Exception handling handles errors that occur during the execution of a program. It allows to respond to the error, instead of crashing the running program. It enables you to catch and manage errors, making your code more robust and user-friendly.\n",
        "\n",
        "\n",
        "Q3 What is the purpose of the finally block in exception handling?\n",
        "\n",
        "Ans The finally block in programming commonly used as a block of code that is executed regardless of whether an exception is thrown or not.\n",
        "\n",
        "\n",
        "Q4 What is logging in Python?\n",
        "\n",
        "Ans Logging is tracking events that happen when the software runs. It is important for software developing, debugging, and running. If there is no logging record and the program crashes, there are very few chances to detect the cause of the problem.\n",
        "\n",
        "\n",
        "Q5  What is the significance of the __del__ method in Python?\n",
        "\n",
        "Ans The __del__ method is a special method, called when an object is about to be destroyed. It allows you to define specific cleanup actions that should be taken when an object is garbage collected.\n",
        "\n",
        "\n",
        "Q6 What is the difference between import and from ... import in Python?\n",
        "\n",
        "Ans For \"import\" imports an entire code library whereas \"from import\" imports a specific member or members of the library.\n",
        "\n",
        "\n",
        "Q7 How can you handle multiple exceptions in Python?\n",
        "\n",
        "Ans W can handle multiple exceptions using the \"try-except\" blocks. We can use \"except\" multiple times if we want.\n",
        "\n",
        "\n",
        "Q8 What is the purpose of the with statement when handling files in Python?\n",
        "\n",
        "Ans The with statement acts as a context manager that simplifies file handling by automatically managing resources.\n",
        "\n",
        "\n",
        "Q9 What is the difference between multithreading and multiprocessing?\n",
        "\n",
        "Ans Multithreading is a system in which multiple threads are created of a process for increasing the computing speed of the system. In multithreading, many threads of a process are executed simultaneously.\n",
        "\n",
        "\n",
        "While multiprocessing is a system that has more than one or two processors. In this CPUs are added to increase the computing speed of the system. Because of it there are many processes are executed simultaneously.\n",
        "\n",
        "\n",
        "Q10 What are the advantages of using logging in a program?\n",
        "\n",
        "Ans It helps to trace the execution of code, detect and fix bugs, optimize performance, and enhance security. Without proper logging practices, the development process can become challenging and time-consuming,\n",
        "\n",
        "\n",
        "Q11 What is memory management in Python?\n",
        "\n",
        "Ans In Python, memory is managed by the Python manager which determines where to put the application data in the memory. So, we must have the knowledge of Python memory manager to write efficient code and maintainable code.\n",
        "\n",
        "\n",
        "Q12 What are the basic steps involved in exception handling in Python?\n",
        "\n",
        "Ans Steps:\n",
        "1. Surround Code with a try Block\n",
        "2. Specify Exception Handlers with except\n",
        "3. Handle Multiple Exceptions(only in the case with multiple exceptions)\n",
        "4. else block(only to execute code if no exceptions occur)\n",
        "5. finally block(only to perform cleanup actions, regardless of the outcome)\n",
        "\n",
        "\n",
        "Q13 Why is memory management important in Python?\n",
        "\n",
        "Ans Effective memory management ensures optimal resource usage, prevents performance bottlenecks, and reduces the risk of application crashes.It handles this automatically, understanding its memory model helps to write efficient and scalable code.\n",
        "\n",
        "\n",
        "Q14 What is the role of try and except in exception handling?\n",
        "\n",
        "Ans The try and except blocks to handle situations where errors and exceptions can interrupt the execution of program.In case an error occurs in try-block, it stops executing try block adn jumps to exception block. These blocks let us handle the errors without crashing the program.\n",
        "\n",
        "\n",
        "Q15 How does Python's garbage collection system work?\n",
        "\n",
        "Ans Garbage collection is a memory management technique used to automatically reclaim memory that is no longer accessible or in use by the application. It helps prevent memory leaks, optimize memory usage, and ensure efficient memory allocation for the program.\n",
        "\n",
        "\n",
        "Q16 What is the purpose of the else block in exception handling?\n",
        "\n",
        "Ans It separates error-handling code from the main logic and makes it easier to identify which parts of the code handle errors and which execute under normal conditions.\n",
        "\n",
        "\n",
        "Q17 What are the common logging levels in Python?\n",
        "\n",
        "Ans There are six log levels with each one assigned a specific integer indicating the severity of the log:\n",
        "\n",
        "NOTSET=0\n",
        "DEBUG=10\n",
        "INFO=20\n",
        "WARN=30\n",
        "ERROR=40\n",
        "CRITICAL=50\n",
        "\n",
        "\n",
        "\n",
        "Q18 What is the difference between os.fork() and multiprocessing in Python?\n",
        "\n",
        "Ans The os.fork() allows for finer control in low-level processes, multiprocessing is more suited for general purposes due to its ease of use in inter-process communication and data sharing.\n",
        "\n",
        "\n",
        "Q19 What is the importance of closing a file in Python?\n",
        "\n",
        "Ans Closing files after use protects against difficult-to-debug issues such as running out of file handles or encountering corrupted data. Python does not flush the buffer that is writing data to the file until it is certain you are finished writing, which can be accomplished by closing the file. If you write to a file without closing it, the data will not be saved to the destination file.\n",
        "\n",
        "\n",
        "Q20 What is the difference between file.read() and file.readline() in Python?\n",
        "\n",
        "Ans read() reads the entire file and returns a string whereas readline() reads just one line from a file\n",
        "\n",
        "\n",
        "Q21 What is the logging module in Python used for?\n",
        "\n",
        "Ans Logging module is used to implement a flexible event-driven logging system, which serves as a convenient way of storing log events or messages for an application.\n",
        "\n",
        "\n",
        "Q22 What is the os module in Python used for in file handling?\n",
        "\n",
        "Ans os module with methods for interacting with the operating system, like creating files and directories, management of files and directories,etc.\n",
        "\n",
        "\n",
        "Q23 What are the challenges associated with memory management in Python?\n",
        "\n",
        "Ans While Python simplifies memory management with automatic garbage collection and dynamic memory allocation, challenges like circular references, memory leaks, and large object handling still require keen attention. Using profiling tools, memory-efficient libraries, and understanding Python’s memory model can help mitigate these challenges effectively.\n",
        "\n",
        "\n",
        "Q24  How do you raise an exception manually in Python?\n",
        "\n",
        "Ans We can use the assert statement and the sys.exc_info() function to raise and re-raise exceptions. raise keyword can be used to raise built-in exceptions, and custom exception classes can be created for more specific use cases.\n",
        "\n",
        "We can use of the assert statement and the sys.exc_info() function for raising exceptions in different scenarios.\n",
        "\n",
        "\n",
        "Q25  Why is it important to use multithreading in certain applications?\n",
        "\n",
        "Ans Multithreading is a crucial concept in modern computing that allows multiple threads to execute concurrently, enabling more efficient utilization of system resources. By breaking down tasks into smaller threads, applications can achieve higher performance, better responsiveness, and enhanced scalability. Whether it’s handling multiple user requests or performing complex operations in parallel, multithreading is an essential technique in both single-processor and multi-processor systems."
      ],
      "metadata": {
        "id": "dwCY1AROfiw4"
      }
    },
    {
      "cell_type": "markdown",
      "source": [
        "#Practical question answers\n"
      ],
      "metadata": {
        "id": "rTSj18QGr0KW"
      }
    },
    {
      "cell_type": "markdown",
      "source": [
        "Q1 How can you open a file for writing in Python and write a string to it?\n",
        "\n",
        "Ans To open the File:\n",
        "\n",
        "we can use open() with the mode 'w' to create a new file or overwrite an existing file.\n",
        "we can se 'a' to append to an existing file without overwriting its content."
      ],
      "metadata": {
        "id": "RMS-TZ4ar33B"
      }
    },
    {
      "cell_type": "code",
      "source": [
        "with open(\"example.txt\", \"w\") as file:\n",
        "    file.write(\"This is the string I want to write to the file.\")\n"
      ],
      "metadata": {
        "id": "OMyyKraCsACN"
      },
      "execution_count": 1,
      "outputs": []
    },
    {
      "cell_type": "markdown",
      "source": [
        "Q2 Write a Python program to read the contents of a file and print each line."
      ],
      "metadata": {
        "id": "T9LMEa4Bs2bQ"
      }
    },
    {
      "cell_type": "code",
      "source": [
        "\n",
        "def print_file_contents(filepath):\n",
        "    try:\n",
        "        with open(filepath, 'r') as file:\n",
        "            for line in file:\n",
        "                print(line, end='')  # end='' prevents extra newline\n",
        "    except FileNotFoundError:\n",
        "        print(f\"Error: File '{filepath}' not found.\")\n",
        "    except Exception as e:\n",
        "        print(f\"An error occurred: {e}\")\n",
        "\n",
        "# Example\n",
        "print_file_contents(\"example.txt\")"
      ],
      "metadata": {
        "id": "fyfEvI8xs6uq"
      },
      "execution_count": null,
      "outputs": []
    },
    {
      "cell_type": "markdown",
      "source": [
        "Q3 How would you handle a case where the file doesn't exist while trying to open it for reading?"
      ],
      "metadata": {
        "id": "8TJ_PS0HtHgF"
      }
    },
    {
      "cell_type": "code",
      "source": [
        "\n",
        "def print_file_contents(filepath):\n",
        "    try:\n",
        "        with open(filepath, 'r') as file:\n",
        "            for line in file:\n",
        "                print(line, end='')  # end='' prevents extra newline\n",
        "    except FileNotFoundError:\n",
        "        print(f\"Error: File '{filepath}' not found.\")\n",
        "    except Exception as e:\n",
        "        print(f\"An error occurred: {e}\")"
      ],
      "metadata": {
        "id": "vB_m7ZY-tJOg"
      },
      "execution_count": null,
      "outputs": []
    },
    {
      "cell_type": "markdown",
      "source": [
        "Q4 Write a Python script that reads from one file and writes its content to another file."
      ],
      "metadata": {
        "id": "FiAmZYeatT3X"
      }
    },
    {
      "cell_type": "code",
      "source": [
        "# Define file names\n",
        "source_file = \"source.txt\"  # Replace with the name of the source file\n",
        "destination_file = \"destination.txt\"  # Replace with the name of the destination file\n",
        "\n",
        "try:\n",
        "    # Open the source file for reading\n",
        "    with open(source_file, \"r\") as src:\n",
        "        # Read the contents of the source file\n",
        "        content = src.read()\n",
        "\n",
        "    # Open the destination file for writing\n",
        "    with open(destination_file, \"w\") as dest:\n",
        "        # Write the content to the destination file\n",
        "        dest.write(content)\n",
        "\n",
        "    print(f\"Contents successfully copied from {source_file} to {destination_file}.\")\n",
        "except FileNotFoundError:\n",
        "    print(f\"Error: {source_file} does not exist.\")\n",
        "except IOError as e:\n",
        "    print(f\"An I/O error occurred: {e}\")\n"
      ],
      "metadata": {
        "id": "7Yll4CwVtg4d"
      },
      "execution_count": null,
      "outputs": []
    },
    {
      "cell_type": "markdown",
      "source": [
        "Q5 How would you catch and handle division by zero error in Python?"
      ],
      "metadata": {
        "id": "0tGTX0oWtoRY"
      }
    },
    {
      "cell_type": "code",
      "source": [
        "try:\n",
        "    numerator = int(input(\"Enter the numerator: \"))\n",
        "    denominator = int(input(\"Enter the denominator: \"))\n",
        "    result = numerator / denominator\n",
        "    print(f\"The result is {result}\")\n",
        "except ZeroDivisionError:\n",
        "    print(\"Error: Division by zero is not allowed.\")\n"
      ],
      "metadata": {
        "id": "RwcKY7WCtsCS"
      },
      "execution_count": null,
      "outputs": []
    },
    {
      "cell_type": "markdown",
      "source": [
        "Q6 Write a Python program that logs an error message to a log file when a division by zero exception occurs."
      ],
      "metadata": {
        "id": "KVdqd4Wotw-Y"
      }
    },
    {
      "cell_type": "code",
      "source": [
        "import logging\n",
        "\n",
        "# Configure logging\n",
        "logging.basicConfig(\n",
        "    filename=\"error.log\",  # Log file name\n",
        "    level=logging.ERROR,   # Log level\n",
        "    format=\"%(asctime)s - %(levelname)s - %(message)s\"  # Log format\n",
        ")\n",
        "\n",
        "def divide_numbers():\n",
        "    try:\n",
        "        numerator = int(input(\"Enter the numerator: \"))\n",
        "        denominator = int(input(\"Enter the denominator: \"))\n",
        "        result = numerator / denominator\n",
        "        print(f\"The result is {result}\")\n",
        "    except ZeroDivisionError:\n",
        "        logging.error(\"Division by zero error occurred.\")\n",
        "        print(\"Error: Division by zero is not allowed. Check the log file for details.\")\n",
        "    except ValueError:\n",
        "        logging.error(\"Invalid input: non-integer value entered.\")\n",
        "        print(\"Error: Please enter valid integers. Check the log file for details.\")\n",
        "\n",
        "if __name__ == \"__main__\":\n",
        "    divide_numbers()\n"
      ],
      "metadata": {
        "id": "WgutAE1nt0ix"
      },
      "execution_count": null,
      "outputs": []
    },
    {
      "cell_type": "markdown",
      "source": [
        "Q7 How do you log information at different levels (INFO, ERROR, WARNING) in Python using the logging module.\n"
      ],
      "metadata": {
        "id": "8gJcXsszt66E"
      }
    },
    {
      "cell_type": "code",
      "source": [
        "logging.info(\"This is an info message.\")\n",
        "logging.error(\"This is an error message.\")\n",
        "logging.warning(\"This is a warning message.\")\n"
      ],
      "metadata": {
        "id": "nAoDf7rnt-0U"
      },
      "execution_count": null,
      "outputs": []
    },
    {
      "cell_type": "markdown",
      "source": [
        "Q8 Write a program to handle a file opening error using exception handling?"
      ],
      "metadata": {
        "id": "TVknV_Mzuj0j"
      }
    },
    {
      "cell_type": "code",
      "source": [
        "try:\n",
        "    # Attempt to open the file in read mode\n",
        "    file_name = \"example.txt\"  # Replace with your file name\n",
        "    with open(file_name, \"r\") as file:\n",
        "        content = file.read()\n",
        "        print(content)\n",
        "except FileNotFoundError:\n",
        "    # Handle the case where the file doesn't exist\n",
        "    print(f\"Error: The file '{file_name}' was not found.\")\n",
        "except IOError as e:\n",
        "    # Handle other I/O errors\n",
        "    print(f\"Error: An I/O error occurred while opening the file. Details: {e}\")\n"
      ],
      "metadata": {
        "id": "T9iGeph_unb_"
      },
      "execution_count": null,
      "outputs": []
    },
    {
      "cell_type": "markdown",
      "source": [
        "Q9 How can you read a file line by line and store its content in a list in Python?\n",
        "\n",
        "\n",
        "Ans Using readlines()\n",
        "\n"
      ],
      "metadata": {
        "id": "aSGid7XQus-f"
      }
    },
    {
      "cell_type": "code",
      "source": [
        "# Open the file in read mode\n",
        "with open(\"example.txt\", \"r\") as file:\n",
        "    # Read all lines and store them in a list\n",
        "    lines = file.readlines()\n",
        "\n",
        "# Print the list of lines\n",
        "print(lines)\n"
      ],
      "metadata": {
        "id": "Ovzytm55uwTt"
      },
      "execution_count": null,
      "outputs": []
    },
    {
      "cell_type": "markdown",
      "source": [
        "Q10  How can you append data to an existing file in Python?\n"
      ],
      "metadata": {
        "id": "mFB5JtQdvC99"
      }
    },
    {
      "cell_type": "code",
      "source": [
        "# Open the file in append mode\n",
        "with open(\"example.txt\", \"a\") as file:\n",
        "    # Append a string to the file\n",
        "    file.write(\"This is a new line added to the file.\\n\")\n"
      ],
      "metadata": {
        "id": "A3a1pd-fvHEb"
      },
      "execution_count": null,
      "outputs": []
    },
    {
      "cell_type": "markdown",
      "source": [
        "Q11 Write a Python program that uses a try-except block to handle an error when attempting to access a\n",
        "dictionary key that doesn't exist"
      ],
      "metadata": {
        "id": "Dmj_09Q9vMuY"
      }
    },
    {
      "cell_type": "code",
      "source": [
        "# Sample dictionary\n",
        "my_dict = {\"name\": \"Alice\", \"age\": 25, \"city\": \"New York\"}\n",
        "\n",
        "# Key we want to access\n",
        "key_to_access = \"email\"  # This key doesn't exist in the dictionary\n",
        "\n",
        "try:\n",
        "    # Attempt to access the key in the dictionary\n",
        "    value = my_dict[key_to_access]\n",
        "    print(f\"The value for '{key_to_access}' is: {value}\")\n",
        "except KeyError:\n",
        "    # Handle the case when the key doesn't exist\n",
        "    print(f\"Error: The key '{key_to_access}' does not exist in the dictionary.\")\n"
      ],
      "metadata": {
        "id": "GBIce7jSvWq0"
      },
      "execution_count": null,
      "outputs": []
    },
    {
      "cell_type": "markdown",
      "source": [
        "Q12  Write a program that demonstrates using multiple except blocks to handle different types of exceptions."
      ],
      "metadata": {
        "id": "sOiIi7e6vXnx"
      }
    },
    {
      "cell_type": "code",
      "source": [
        "def handle_exceptions():\n",
        "    try:\n",
        "        # Get input from the user\n",
        "        num = int(input(\"Enter a number: \"))  # May raise ValueError\n",
        "        divisor = int(input(\"Enter a divisor: \"))  # May raise ValueError\n",
        "\n",
        "        # Perform division (may raise ZeroDivisionError)\n",
        "        result = num / divisor\n",
        "        print(f\"The result is: {result}\")\n",
        "\n",
        "        # List indexing (may raise IndexError)\n",
        "        my_list = [1, 2, 3]\n",
        "        index = int(input(\"Enter an index to access from a list: \"))  # May raise ValueError\n",
        "        print(f\"Value at index {index}: {my_list[index]}\")\n",
        "\n",
        "    except ValueError:\n",
        "        print(\"Error: Please enter a valid integer.\")\n",
        "    except ZeroDivisionError:\n",
        "        print(\"Error: Division by zero is not allowed.\")\n",
        "    except IndexError:\n",
        "        print(\"Error: Index is out of range.\")\n",
        "    except Exception as e:\n",
        "        print(f\"An unexpected error occurred: {e}\")\n",
        "\n",
        "# Call the function to test the exceptions\n",
        "handle_exceptions()\n"
      ],
      "metadata": {
        "id": "H-exoisqvb1S"
      },
      "execution_count": null,
      "outputs": []
    },
    {
      "cell_type": "markdown",
      "source": [
        "Q13 How would you check if a file exists before attempting to read it in Python?\n",
        "\n",
        "Ans Using os.path.exists()"
      ],
      "metadata": {
        "id": "aYdPH6oKvhMm"
      }
    },
    {
      "cell_type": "code",
      "source": [
        "import os\n",
        "\n",
        "# Path to the file you want to check\n",
        "file_path = \"example.txt\"\n",
        "\n",
        "# Check if the file exists\n",
        "if os.path.exists(file_path):\n",
        "    # File exists, open and read it\n",
        "    with open(file_path, \"r\") as file:\n",
        "        content = file.read()\n",
        "        print(content)\n",
        "else:\n",
        "    print(f\"Error: The file '{file_path}' does not exist.\")\n"
      ],
      "metadata": {
        "id": "FlZyiKQRvwbx"
      },
      "execution_count": null,
      "outputs": []
    },
    {
      "cell_type": "markdown",
      "source": [
        "Q14 Write a program that uses the logging module to log both informational and error messages."
      ],
      "metadata": {
        "id": "FFZAjCAAvzHV"
      }
    },
    {
      "cell_type": "code",
      "source": [
        "import logging\n",
        "\n",
        "# Configure the logging module\n",
        "logging.basicConfig(\n",
        "    level=logging.DEBUG,  # Set the log level to DEBUG to capture all levels\n",
        "    format='%(asctime)s - %(levelname)s - %(message)s',  # Log format\n",
        "    filename='app.log',  # Log messages to a file\n",
        "    filemode='a'  # Append to the log file (use 'w' to overwrite)\n",
        ")\n",
        "\n",
        "# Log an informational message\n",
        "logging.info(\"This is an informational message.\")\n",
        "\n",
        "# Simulate an error and log it\n",
        "try:\n",
        "    x = 10 / 0  # This will raise a ZeroDivisionError\n",
        "except ZeroDivisionError as e:\n",
        "    logging.error(f\"Error occurred: {e}\")\n"
      ],
      "metadata": {
        "id": "4AEi38GFv2yP"
      },
      "execution_count": null,
      "outputs": []
    },
    {
      "cell_type": "markdown",
      "source": [
        "Q15 Write a Python program that prints the content of a file and handles the case when the file is empty."
      ],
      "metadata": {
        "id": "gCidA0F0v9QC"
      }
    },
    {
      "cell_type": "code",
      "source": [
        "def read_file(file_path):\n",
        "    try:\n",
        "        # Open the file in read mode\n",
        "        with open(file_path, 'r') as file:\n",
        "            content = file.read()\n",
        "\n",
        "            # Check if the file is empty\n",
        "            if not content:\n",
        "                print(\"The file is empty.\")\n",
        "            else:\n",
        "                print(\"File content:\")\n",
        "                print(content)\n",
        "\n",
        "    except FileNotFoundError:\n",
        "        print(f\"Error: The file '{file_path}' does not exist.\")\n",
        "    except Exception as e:\n",
        "        print(f\"An unexpected error occurred: {e}\")\n",
        "\n",
        "# Specify the file path\n",
        "file_path = \"example.txt\"\n",
        "\n",
        "# Call the function to read the file\n",
        "read_file(file_path)\n"
      ],
      "metadata": {
        "id": "QRszcj6TwGHK"
      },
      "execution_count": null,
      "outputs": []
    },
    {
      "cell_type": "markdown",
      "source": [
        "Q16 Demonstrate how to use memory profiling to check the memory usage of a small program.\n"
      ],
      "metadata": {
        "id": "Xp0SF2mXwG5_"
      }
    },
    {
      "cell_type": "code",
      "source": [
        "from memory_profiler import profile\n",
        "\n",
        "@profile\n",
        "def my_function():\n",
        "    # Creating a large list to consume memory\n",
        "    my_list = [i for i in range(1000000)]\n",
        "\n",
        "    # Adding more data to the list\n",
        "    my_list.append(1000001)\n",
        "\n",
        "    # Perform some calculations\n",
        "    total = sum(my_list)\n",
        "\n",
        "    return total\n",
        "\n",
        "if __name__ == '__main__':\n",
        "    my_function()\n"
      ],
      "metadata": {
        "id": "S9rTfezAwK6N"
      },
      "execution_count": null,
      "outputs": []
    },
    {
      "cell_type": "markdown",
      "source": [
        "Q17 Write a Python program to create and write a list of numbers to a file, one number per line.\n",
        "\n"
      ],
      "metadata": {
        "id": "mDTnC7cawVYs"
      }
    },
    {
      "cell_type": "code",
      "source": [
        "def write_numbers_to_file(file_path, numbers):\n",
        "    try:\n",
        "        # Open the file in write mode\n",
        "        with open(file_path, 'w') as file:\n",
        "            # Write each number in the list to the file, one per line\n",
        "            for number in numbers:\n",
        "                file.write(f\"{number}\\n\")\n",
        "        print(f\"Numbers successfully written to {file_path}\")\n",
        "    except Exception as e:\n",
        "        print(f\"Error: {e}\")\n",
        "\n",
        "# List of numbers to write to the file\n",
        "numbers = [1, 2, 3, 4, 5, 6, 7, 8, 9, 10]\n",
        "\n",
        "# Specify the file path\n",
        "file_path = \"numbers.txt\"\n",
        "\n",
        "# Call the function to write the numbers to the file\n",
        "write_numbers_to_file(file_path, numbers)\n"
      ],
      "metadata": {
        "id": "Sn-33rD8wm9u"
      },
      "execution_count": null,
      "outputs": []
    },
    {
      "cell_type": "markdown",
      "source": [
        "Q18  How would you implement a basic logging setup that logs to a file with rotation after 1MB?"
      ],
      "metadata": {
        "id": "v3NQRhHgwpR6"
      }
    },
    {
      "cell_type": "code",
      "source": [
        "import logging\n",
        "from logging.handlers import RotatingFileHandler\n",
        "\n",
        "# Create a logger\n",
        "logger = logging.getLogger(\"my_logger\")\n",
        "logger.setLevel(logging.DEBUG)  # Set the logging level to DEBUG (captures all log levels)\n",
        "\n",
        "# Create a RotatingFileHandler that rotates after the file exceeds 1MB\n",
        "log_file = \"app.log\"\n",
        "handler = RotatingFileHandler(log_file, maxBytes=1*1024*1024, backupCount=3)  # 1MB limit, 3 backup files\n",
        "\n",
        "# Create a log format\n",
        "formatter = logging.Formatter('%(asctime)s - %(levelname)s - %(message)s')\n",
        "handler.setFormatter(formatter)\n",
        "\n",
        "# Add the handler to the logger\n",
        "logger.addHandler(handler)\n",
        "\n",
        "# Log some messages\n",
        "logger.debug(\"This is a debug message.\")\n",
        "logger.info(\"This is an informational message.\")\n",
        "logger.warning(\"This is a warning message.\")\n",
        "logger.error(\"This is an error message.\")\n",
        "logger.critical(\"This is a critical message.\")\n",
        "\n",
        "# Simulate log rotation by writing a lot of log entries\n",
        "for i in range(1000):\n",
        "    logger.info(f\"Log entry number {i}\")\n",
        "\n",
        "\n",
        "    #This setup will log messages to a file, and when the log file exceeds 1MB, it will automatically rotate. The rotated files will be saved as backup files with a .1, .2, .3, etc., suffix. This is a common practice to manage log files that grow too large over time.\n"
      ],
      "metadata": {
        "id": "O9jtJOFGwtHb"
      },
      "execution_count": null,
      "outputs": []
    },
    {
      "cell_type": "markdown",
      "source": [
        "Q19 Write a program that handles both IndexError and KeyError using a try-except block."
      ],
      "metadata": {
        "id": "8LRRSCcXw-vn"
      }
    },
    {
      "cell_type": "code",
      "source": [
        "def handle_errors():\n",
        "    # A sample list and dictionary\n",
        "    sample_list = [1, 2, 3, 4]\n",
        "    sample_dict = {'a': 1, 'b': 2, 'c': 3}\n",
        "\n",
        "    try:\n",
        "        # Trying to access an invalid index in the list\n",
        "        index_value = sample_list[10]  # This will raise IndexError\n",
        "\n",
        "        # Trying to access a non-existing key in the dictionary\n",
        "        dict_value = sample_dict['d']  # This will raise KeyError\n",
        "\n",
        "    except IndexError as e:\n",
        "        print(f\"IndexError occurred: {e}\")\n",
        "\n",
        "    except KeyError as e:\n",
        "        print(f\"KeyError occurred: {e}\")\n",
        "\n",
        "# Call the function\n",
        "handle_errors()\n"
      ],
      "metadata": {
        "id": "9XwvO76ixGOK"
      },
      "execution_count": null,
      "outputs": []
    },
    {
      "cell_type": "markdown",
      "source": [
        "Q20 How would you open a file and read its contents using a context manager in Python?"
      ],
      "metadata": {
        "id": "hFVFfes7xHVB"
      }
    },
    {
      "cell_type": "code",
      "source": [
        "def read_file_with_context_manager(file_path):\n",
        "    try:\n",
        "        # Open the file using a context manager\n",
        "        with open(file_path, 'r') as file:\n",
        "            # Read the contents of the file\n",
        "            content = file.read()\n",
        "            print(content)  # Print the content of the file\n",
        "    except FileNotFoundError:\n",
        "        print(f\"Error: The file '{file_path}' does not exist.\")\n",
        "    except Exception as e:\n",
        "        print(f\"An unexpected error occurred: {e}\")\n",
        "\n",
        "# Specify the file path\n",
        "file_path = \"example.txt\"\n",
        "\n",
        "# Call the function to read the file\n",
        "read_file_with_context_manager(file_path)\n"
      ],
      "metadata": {
        "id": "cQVpjeL3xPzA"
      },
      "execution_count": null,
      "outputs": []
    },
    {
      "cell_type": "markdown",
      "source": [
        "Q21 Write a Python program that reads a file and prints the number of occurrences of a specific word."
      ],
      "metadata": {
        "id": "-qLUbitPxQgz"
      }
    },
    {
      "cell_type": "code",
      "source": [
        "def count_word_in_file(file_path, target_word):\n",
        "    try:\n",
        "        with open(file_path, 'r') as file:\n",
        "            content = file.read()  # Read the entire content of the file\n",
        "            # Count occurrences of the target word\n",
        "            word_count = content.lower().split().count(target_word.lower())\n",
        "            print(f\"The word '{target_word}' occurs {word_count} times in the file.\")\n",
        "    except FileNotFoundError:\n",
        "        print(f\"Error: The file '{file_path}' does not exist.\")\n",
        "    except Exception as e:\n",
        "        print(f\"An unexpected error occurred: {e}\")\n",
        "\n",
        "# Specify the file path and the word to search\n",
        "file_path = \"example.txt\"\n",
        "target_word = \"python\"\n",
        "\n",
        "# Call the function to count the word occurrences\n",
        "count_word_in_file(file_path, target_word)\n"
      ],
      "metadata": {
        "id": "Vgi6_orexTwh"
      },
      "execution_count": null,
      "outputs": []
    },
    {
      "cell_type": "markdown",
      "source": [
        "Q22 How can you check if a file is empty before attempting to read its contents?"
      ],
      "metadata": {
        "id": "3ac_RtSQxYGv"
      }
    },
    {
      "cell_type": "code",
      "source": [
        "import os\n",
        "\n",
        "def check_if_file_is_empty(file_path):\n",
        "    # Check if the file exists and its size\n",
        "    if os.path.exists(file_path):\n",
        "        if os.path.getsize(file_path) == 0:\n",
        "            print(f\"The file '{file_path}' is empty.\")\n",
        "        else:\n",
        "            print(f\"The file '{file_path}' is not empty.\")\n",
        "    else:\n",
        "        print(f\"Error: The file '{file_path}' does not exist.\")\n",
        "\n",
        "# Specify the file path\n",
        "file_path = \"example.txt\"\n",
        "\n",
        "# Call the function to check if the file is empty\n",
        "check_if_file_is_empty(file_path)\n"
      ],
      "metadata": {
        "id": "3h4fq1DrxcHS"
      },
      "execution_count": null,
      "outputs": []
    },
    {
      "cell_type": "markdown",
      "source": [
        "Q23 Write a Python program that writes to a log file when an error occurs during file handling."
      ],
      "metadata": {
        "id": "9pi6J9LCxf8d"
      }
    },
    {
      "cell_type": "code",
      "source": [
        "import logging\n",
        "\n",
        "# Set up logging configuration\n",
        "logging.basicConfig(\n",
        "    filename='file_handling_errors.log',  # Log file name\n",
        "    level=logging.ERROR,  # Log level to capture ERROR and above\n",
        "    format='%(asctime)s - %(levelname)s - %(message)s'  # Log format\n",
        ")\n",
        "\n",
        "def handle_file_operations(file_path):\n",
        "    try:\n",
        "        # Attempt to open the file in write mode and write data\n",
        "        with open(file_path, 'w') as file:\n",
        "            file.write(\"This is some content written to the file.\")\n",
        "        print(\"File written successfully.\")\n",
        "\n",
        "    except Exception as e:\n",
        "        # Log the error message to the log file\n",
        "        logging.error(f\"Error occurred while handling file '{file_path}': {e}\")\n",
        "        print(f\"An error occurred while handling the file. Please check the log file for details.\")\n",
        "\n",
        "# Specify the file path\n",
        "file_path = \"example.txt\"\n",
        "\n",
        "# Call the function to handle file operations\n",
        "handle_file_operations(file_path)\n"
      ],
      "metadata": {
        "id": "DP4epwuuxjHH"
      },
      "execution_count": null,
      "outputs": []
    }
  ]
}