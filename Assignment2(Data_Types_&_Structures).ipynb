{
  "nbformat": 4,
  "nbformat_minor": 0,
  "metadata": {
    "colab": {
      "provenance": [],
      "authorship_tag": "ABX9TyOp8xe0hgXNMlvny2i8mrVT",
      "include_colab_link": true
    },
    "kernelspec": {
      "name": "python3",
      "display_name": "Python 3"
    },
    "language_info": {
      "name": "python"
    }
  },
  "cells": [
    {
      "cell_type": "markdown",
      "metadata": {
        "id": "view-in-github",
        "colab_type": "text"
      },
      "source": [
        "<a href=\"https://colab.research.google.com/github/shrutirawat24/Data-Types-Structures/blob/main/Assignment2(Data_Types_%26_Structures).ipynb\" target=\"_parent\"><img src=\"https://colab.research.google.com/assets/colab-badge.svg\" alt=\"Open In Colab\"/></a>"
      ]
    },
    {
      "cell_type": "markdown",
      "source": [
        "#ASSIGNMENT2(Data Types & Structures)\n"
      ],
      "metadata": {
        "id": "VOZLja8aTQNv"
      }
    },
    {
      "cell_type": "markdown",
      "source": [
        "#Theory question-answers"
      ],
      "metadata": {
        "id": "c6YNoPUCmsYx"
      }
    },
    {
      "cell_type": "markdown",
      "source": [
        "Q1 What are data structures, and why are they important?\n",
        "\n",
        "Ans A data structure is a collection of data values and the relationships between them. Data structures allow programs to store and process data effectively. There are many different data structures, each with its own advantages and disadvantages. Some of the most common data structures are arrays, lists, trees, and graphs.\n",
        "\n",
        "They are important as:\n",
        "\n",
        "1.Choosing the right data structure significantly impacts how quickly your program can access and process information.\n",
        "\n",
        "2.Data structures help optimize memory usage, preventing wasted space and improving program efficiency.\n",
        "\n",
        "3.Well-defined data structures can be reused across different parts of your program or even other programs, saving development time and promoting consistency.\n"
      ],
      "metadata": {
        "id": "_ZRfgNtLTZd4"
      }
    },
    {
      "cell_type": "markdown",
      "source": [
        "Q2  Explain the difference between mutable and immutable data types with examples.\n",
        "\n",
        "Ans Anything is said to be mutable when anything can be modified or changed. The term \"mutable\" in Python refers to an object's capacity to modify its values. These are frequently the things that hold a data collection.Eg.lists,dictionaries,sets\n",
        "\n",
        "Whereas,immutable refers to a state in which no change can occur over time. A Python object is referred to as immutable if we cannot change its value over time. The value of these Python objects is fixed once they are made.Eg.Numbers,tuples,strings,frozen sets"
      ],
      "metadata": {
        "id": "0jcYw7xcULNq"
      }
    },
    {
      "cell_type": "markdown",
      "source": [
        "Q3 E What are the main differences between lists and tuples in Python?\n",
        "\n",
        "Ans\n",
        "\n",
        "Lists\n",
        "\n",
        "1 Lists are mutable\n",
        "\n",
        "2\tThe implication of iterations is Time-consuming\n",
        "\n",
        "3\tThe list is better for performing operations, such as insertion and deletion.\n",
        "\n",
        "4\tLists consume more memory\n",
        "\n",
        "5\tUnexpected changes and errors are more likely to occur\n",
        "\n",
        "Tuples\n",
        "\n",
        "1 Tuples are immutable    \n",
        "\n",
        "2 The implication of iterations is comparatively Faster\n",
        "\n",
        "3 Tuple data type is appropriate for accessing the elements\n",
        "\n",
        "4 Tuple consumes less memory as compared to the list\n",
        "\n",
        "5 Because tuples don’t change they are far less error-prone."
      ],
      "metadata": {
        "id": "gTl29TN9U_lJ"
      }
    },
    {
      "cell_type": "markdown",
      "source": [
        "Q4 Describe how dictionaries store data.\n",
        "\n",
        "Ans Dictionaries are a built-in data type in Python that allow you to store data as key-value pairs. They are similar to lists in that they can store multiple values, but unlike lists, they are not ordered and do not use integer indices. Instead, they use keys, which can be any immutable data type (such as strings, integers, or tuples). This makes dictionaries very useful for storing and accessing data quickly, especially when the data has some logical connection or meaning."
      ],
      "metadata": {
        "id": "UsOajOSbWbSj"
      }
    },
    {
      "cell_type": "markdown",
      "source": [
        "Q5 Why might you use a set instead of a list in Python?\n",
        "\n",
        "Ans Set represents a collection of distinct elements.For faster operation and if we have a large collection of elements and if we wish to perform membership test, in that case it is appropriate to use set instead of a list."
      ],
      "metadata": {
        "id": "2ouIjKYsW9GS"
      }
    },
    {
      "cell_type": "markdown",
      "source": [
        "Q6 What is a string in Python, and how is it different from a list?\n",
        "\n",
        "Ans Python string methods is a collection of in-built Python functions that operates on lists\n",
        "\n",
        "Difference btw string and list:\n",
        "\n",
        "\n",
        "1. Strings can only consist of characters, while lists can contain any data type.\n",
        "\n",
        "2. We cannot easily make a list into a string, but we can make a string into a list of characters, simply by using the list() function.\n",
        "\n",
        "3. We add to a string, using + concatenation operator to do so. With a list, we use the .append() method to add elements\n",
        "\n",
        "4. Strings are immutable, meaning that we cannot update them. We could update values in a list however quite easily."
      ],
      "metadata": {
        "id": "SYNxmAfbagwq"
      }
    },
    {
      "cell_type": "markdown",
      "source": [
        "  Q7 How do tuples ensure data integrity in Python?\n",
        "\n",
        "  Ans  Immutability makes tuples an ideal choice for situations where you want to ensure that the data remains constant throughout your program’s execution.\n",
        "  Tuples provide data integrity and ensure that the contents remain constant throughout the program's execution."
      ],
      "metadata": {
        "id": "lhmeXMM-ci50"
      }
    },
    {
      "cell_type": "markdown",
      "source": [
        "Q8  What is a hash table, and how does it relate to dictionaries in Python?\n",
        "\n",
        "Ans A Hash table is defined as a data structure used to insert, look up, and remove key-value pairs quickly. It operates on the hashing concept, where each key is translated by a hash function into a distinct index in an array.\n",
        "\n",
        "They are related to dictionaries as:\n",
        "\n",
        "-Both structures store data in key-value pairs, where each key is unique.\n",
        "\n",
        "-Both are designed to allow for quick data retrieval. Hash tables achieve this through hashing, and Python dictionaries are optimized for quick lookup by using a similar hashing mechanism.\n",
        "\n",
        "-Many implementations of hash tables and\n",
        "Python dictionaries resize dynamically. This resizing is crucial to maintain operations’ efficiency as the number of elements grows."
      ],
      "metadata": {
        "id": "gYCvpQCidIHP"
      }
    },
    {
      "cell_type": "markdown",
      "source": [
        "Q9 Can lists contain different data types in Python?\n",
        "\n",
        "Ans Yes,Python's versatility extends to its ability to handle lists with mixed data types."
      ],
      "metadata": {
        "id": "kmX7XYpAd-VA"
      }
    },
    {
      "cell_type": "markdown",
      "source": [
        "Q10  Explain why strings are immutable in Python.\n",
        "\n",
        "Ans Immutability is very important in Python, as it helps in data safety and interpreter performance. The string data type is very common in Python programs hence they are immutable."
      ],
      "metadata": {
        "id": "b0Rkd-8SeXUn"
      }
    },
    {
      "cell_type": "markdown",
      "source": [
        "Q11 What advantages do dictionaries offer over lists for certain tasks?\n",
        "\n",
        "Ans A dictionary has several advantages over a list especially in python. Dictionarys have two parts to every entry the key and the value and these are stored as pairs. This can give you more flexibility when storing data. The primary advantage would be retrieving stored values as it is much simpler to search through a dictionary.If the data your trying to store is identifiable so the data can be attributed to name name or item this might be a preferable system. One example would be storing the age of school students. You could store the age and name as a value and key pair. This would allow you to sort the dictionary for a particular student and retrieve their age. To do this with lists you would require two lists to search through or a very complicated indexing systems.\n"
      ],
      "metadata": {
        "id": "7j7tA31Eexcq"
      }
    },
    {
      "cell_type": "markdown",
      "source": [
        "Q12  Describe a scenario where using a tuple would be preferable over a list.\n",
        "\n",
        "Ans Using a tuple is preferable over a list when you need an immutable collection of items, where the values are fixed and should not change during the program's execution. This immutability provides clarity about the intention of the data and can improve performance, especially when dealing with a large amount of data.\n"
      ],
      "metadata": {
        "id": "bsf9ZtBDfJcx"
      }
    },
    {
      "cell_type": "markdown",
      "source": [
        "Q13 How do sets handle duplicate values in Python?\n",
        "\n",
        "Ans Python offers the built-in set data structure, which inherently handles duplicates by design. Sets in Python not only help manage duplicate elements but also bring clear performance benefits in certain operations like membership testing and set arithmetic."
      ],
      "metadata": {
        "id": "Md8jSrRVfpbm"
      }
    },
    {
      "cell_type": "markdown",
      "source": [
        "Q14 How does the “in” keyword work differently for lists and dictionaries?\n",
        "\n",
        "Ans \"in\" works differently for list and dictionaries as:\n",
        "\n",
        "Lists:\n",
        "\n",
        "-Checks for elements\n",
        "\n",
        "-Works directly on values\n",
        "\n",
        "\n",
        "\n",
        "Dictionaries:\n",
        "\n",
        "-Checks for keys\n",
        "\n",
        "-Must explicitly use .values() for values\n"
      ],
      "metadata": {
        "id": "juFmUIjpf9BG"
      }
    },
    {
      "cell_type": "markdown",
      "source": [
        "Q15 Can you modify the elements of a tuple? Explain why or why not?\n",
        "\n",
        "Ans We cannot change the elements of a tuple because elements of tuple are immutable. However we can change the elements of nested items that are mutable.\n"
      ],
      "metadata": {
        "id": "G_Ur6Q74hSIL"
      }
    },
    {
      "cell_type": "markdown",
      "source": [
        "Q16 What is a nested dictionary, and give an example of its use case?\n",
        "\n",
        "Ans A nested dictionary is a dictionary inside a dictionary. It's a collection of dictionaries into one single dictionary. Eg:"
      ],
      "metadata": {
        "id": "-pTYlo6UhlXj"
      }
    },
    {
      "cell_type": "code",
      "source": [
        "people = {1: {'name': 'John', 'age': '27', 'sex': 'Male'},\n",
        "          2: {'name': 'Marie', 'age': '22', 'sex': 'Female'}}\n",
        "\n",
        "print(people)\n"
      ],
      "metadata": {
        "colab": {
          "base_uri": "https://localhost:8080/"
        },
        "id": "e8j9-dmyizYo",
        "outputId": "919b5ffc-0045-4ec5-8f36-2bd8a84f5c53"
      },
      "execution_count": 1,
      "outputs": [
        {
          "output_type": "stream",
          "name": "stdout",
          "text": [
            "{1: {'name': 'John', 'age': '27', 'sex': 'Male'}, 2: {'name': 'Marie', 'age': '22', 'sex': 'Female'}}\n"
          ]
        }
      ]
    },
    {
      "cell_type": "markdown",
      "source": [
        "Q17 Describe the time complexity of accessing elements in a dictionary.\n",
        "\n",
        "Ans The time complexity of accessing a dictionary in Python 3 is generally considered to be constant time. This means that regardless of the size of the dictionary, the time it takes to access a value remains constant. However, this assumes that the hash function used by Python is well-distributed and avoids collisions as much as possible."
      ],
      "metadata": {
        "id": "p1zUbLbHi9Yb"
      }
    },
    {
      "cell_type": "markdown",
      "source": [
        "Q18  In what situations are lists preferred over dictionaries.\n",
        "\n",
        "Ans Situations where sequential or indexed access needed, data contains duplicates, simple collection of items, adding elements frequently, key-value relationships are irrelevant, fast lookups by a key are unnecessary in these cases lists are preferred over dictionaries.\n"
      ],
      "metadata": {
        "id": "kIYsBMKZjYaH"
      }
    },
    {
      "cell_type": "markdown",
      "source": [
        "Q19 Why are dictionaries considered unordered, and how does that affect data retrieval?\n",
        "\n",
        "Ans Dictionary is termed as an unordered collection of object because the printed order of elements is not same as the order in which the elements are stored.\n",
        "\n",
        "When dictionaries are unordered, data retrieval via iteration does not follow a predictable order, which can lead to inconsistent behavior in algorithms requiring a specific order. However, key lookups remain unaffected because dictionaries use hash tables for fast access.Hence dictionaries preserve insertion order, eliminating this issue."
      ],
      "metadata": {
        "id": "cMTLkAJZkZ5J"
      }
    },
    {
      "cell_type": "markdown",
      "source": [
        "Q20 Explain the difference between a list and a dictionary in terms of data retrieval.\n",
        "\n",
        "Ans In list it retrieves elements by index (position).Whereas in dictionary it retrieves elements by key (name or identifier).\n"
      ],
      "metadata": {
        "id": "VHAPbWpul0Rr"
      }
    },
    {
      "cell_type": "markdown",
      "source": [
        "#Practical question-answers"
      ],
      "metadata": {
        "id": "quBzwjK_mdgI"
      }
    },
    {
      "cell_type": "markdown",
      "source": [
        "Q1 Write a code to create a string with your name and print it.\n",
        "\n",
        "Ans"
      ],
      "metadata": {
        "id": "UOnVcC7fm7YP"
      }
    },
    {
      "cell_type": "code",
      "source": [
        "# Create a string with my name\n",
        "name = \"Shruti\"\n",
        "\n",
        "# Print the string\n",
        "print(name)"
      ],
      "metadata": {
        "colab": {
          "base_uri": "https://localhost:8080/"
        },
        "id": "Uvyf2CQhnBVC",
        "outputId": "994492b2-cb91-455a-9dbe-4ec718ea90fe"
      },
      "execution_count": 3,
      "outputs": [
        {
          "output_type": "stream",
          "name": "stdout",
          "text": [
            "Shruti\n"
          ]
        }
      ]
    },
    {
      "cell_type": "markdown",
      "source": [
        "Q2 Write a code to find the length of the string \"Hello World\".\n",
        "\n",
        "Ans"
      ],
      "metadata": {
        "id": "nVUxS5sRnO16"
      }
    },
    {
      "cell_type": "code",
      "source": [
        "# Define the string\n",
        "my_string = \"Hello World\"\n",
        "\n",
        "# Find the length of the string\n",
        "length = len(my_string)\n",
        "\n",
        "# Print the length\n",
        "print(\"The length of the string is:\", length)"
      ],
      "metadata": {
        "colab": {
          "base_uri": "https://localhost:8080/"
        },
        "id": "pTrmw5lnnWB2",
        "outputId": "acbd058d-98ef-4c9b-859b-1d11017d2f62"
      },
      "execution_count": 4,
      "outputs": [
        {
          "output_type": "stream",
          "name": "stdout",
          "text": [
            "The length of the string is: 11\n"
          ]
        }
      ]
    },
    {
      "cell_type": "markdown",
      "source": [
        "Q3 Write a code to slice the first 3 characters from the string \"Python Programming\".\n",
        "\n",
        "Ans\n"
      ],
      "metadata": {
        "id": "My50E3G3ncdn"
      }
    },
    {
      "cell_type": "code",
      "source": [
        "# Define the string\n",
        "my_string = \"Python Programming\"\n",
        "\n",
        "# Slice the first 3 characters\n",
        "first_three = my_string[:3]\n",
        "\n",
        "# Print the result\n",
        "print(\"The first 3 characters are:\", first_three)"
      ],
      "metadata": {
        "colab": {
          "base_uri": "https://localhost:8080/"
        },
        "id": "LBxsTFsjniz9",
        "outputId": "5bab6433-6cb9-4a0a-a205-bbd21e28e974"
      },
      "execution_count": 5,
      "outputs": [
        {
          "output_type": "stream",
          "name": "stdout",
          "text": [
            "The first 3 characters are: Pyt\n"
          ]
        }
      ]
    },
    {
      "cell_type": "markdown",
      "source": [
        "Q4 Write a code to convert the string \"hello\" to uppercase.\n",
        "\n",
        "Ans"
      ],
      "metadata": {
        "id": "OqCakHQGnt2a"
      }
    },
    {
      "cell_type": "code",
      "source": [
        "# Define the string\n",
        "my_string = \"hello\"\n",
        "\n",
        "# Convert to uppercase\n",
        "uppercase_string = my_string.upper()\n",
        "\n",
        "# Print the result\n",
        "print(\"Uppercase string:\", uppercase_string)\n"
      ],
      "metadata": {
        "colab": {
          "base_uri": "https://localhost:8080/"
        },
        "id": "qSf8mWZ-nyOa",
        "outputId": "717235b8-b42f-446e-dcd1-fe3dd1cfc046"
      },
      "execution_count": 6,
      "outputs": [
        {
          "output_type": "stream",
          "name": "stdout",
          "text": [
            "Uppercase string: HELLO\n"
          ]
        }
      ]
    },
    {
      "cell_type": "markdown",
      "source": [
        "Q5 Write a code to replace the word \"apple\" with \"orange\" in the string \"I like apple\".\n",
        "\n",
        "Ans\n"
      ],
      "metadata": {
        "id": "pkYSbM4dn5aI"
      }
    },
    {
      "cell_type": "code",
      "source": [
        "# Define the string\n",
        "my_string = \"I like apple\"\n",
        "\n",
        "# Replace \"apple\" with \"orange\"\n",
        "modified_string = my_string.replace(\"apple\", \"orange\")\n",
        "\n",
        "# Print the result\n",
        "print(modified_string)\n"
      ],
      "metadata": {
        "colab": {
          "base_uri": "https://localhost:8080/"
        },
        "id": "iYPx6izsoGzT",
        "outputId": "429be1c2-4aef-4bce-f899-11a186f726eb"
      },
      "execution_count": 7,
      "outputs": [
        {
          "output_type": "stream",
          "name": "stdout",
          "text": [
            "I like orange\n"
          ]
        }
      ]
    },
    {
      "cell_type": "markdown",
      "source": [
        "Q6 Write a code to create a list with numbers 1 to 5 and print it.\n",
        "\n",
        "Ans\n"
      ],
      "metadata": {
        "id": "lWUCKoWNoKqG"
      }
    },
    {
      "cell_type": "code",
      "source": [
        "# Create a list with numbers 1 to 5\n",
        "my_list = [1, 2, 3, 4, 5]\n",
        "\n",
        "# Print the list\n",
        "print(my_list)\n"
      ],
      "metadata": {
        "colab": {
          "base_uri": "https://localhost:8080/"
        },
        "id": "l5QPQk4hoQTZ",
        "outputId": "612dd5b0-f18d-4c64-94b0-e539cdc489f1"
      },
      "execution_count": 8,
      "outputs": [
        {
          "output_type": "stream",
          "name": "stdout",
          "text": [
            "[1, 2, 3, 4, 5]\n"
          ]
        }
      ]
    },
    {
      "cell_type": "markdown",
      "source": [
        "Q7 Write a code to append the number 10 to the list [1, 2, 3, 4].\n",
        "\n",
        "Ans"
      ],
      "metadata": {
        "id": "oJhsLC0ioVJf"
      }
    },
    {
      "cell_type": "code",
      "source": [
        "# Define the list\n",
        "my_list = [1, 2, 3, 4]\n",
        "\n",
        "# Append 10 to the list\n",
        "my_list.append(10)\n",
        "\n",
        "# Print the updated list\n",
        "print(my_list)\n"
      ],
      "metadata": {
        "colab": {
          "base_uri": "https://localhost:8080/"
        },
        "id": "t82ScC84oc44",
        "outputId": "d9b67cbd-a675-4dbc-d9e1-3cbf0100d679"
      },
      "execution_count": 9,
      "outputs": [
        {
          "output_type": "stream",
          "name": "stdout",
          "text": [
            "[1, 2, 3, 4, 10]\n"
          ]
        }
      ]
    },
    {
      "cell_type": "markdown",
      "source": [
        "Q8 Write a code to remove the number 3 from the list [1, 2, 3, 4, 5]\n",
        "\n",
        "Ans"
      ],
      "metadata": {
        "id": "cwV74EqQofHq"
      }
    },
    {
      "cell_type": "code",
      "source": [
        "# Define the list\n",
        "my_list = [1, 2, 3, 4, 5]\n",
        "\n",
        "# Remove the number 3 from the list\n",
        "my_list.remove(3)\n",
        "\n",
        "# Print the updated list\n",
        "print(my_list)\n"
      ],
      "metadata": {
        "colab": {
          "base_uri": "https://localhost:8080/"
        },
        "id": "FfX8iMrOoqXj",
        "outputId": "9ad8aa98-910a-44f8-851d-21248d60b53e"
      },
      "execution_count": 10,
      "outputs": [
        {
          "output_type": "stream",
          "name": "stdout",
          "text": [
            "[1, 2, 4, 5]\n"
          ]
        }
      ]
    },
    {
      "cell_type": "markdown",
      "source": [
        "Q9 Write a code to access the second element in the list ['a', 'b', 'c', 'd'].\n",
        "\n",
        "Ans\n"
      ],
      "metadata": {
        "id": "CjlShcgzowP9"
      }
    },
    {
      "cell_type": "code",
      "source": [
        "# Define the list\n",
        "my_list = ['a', 'b', 'c', 'd']\n",
        "\n",
        "# Access the second element (index 1)\n",
        "second_element = my_list[1]\n",
        "\n",
        "# Print the second element\n",
        "print(second_element)\n"
      ],
      "metadata": {
        "colab": {
          "base_uri": "https://localhost:8080/"
        },
        "id": "VvKi1wxko0Vs",
        "outputId": "e763db83-dc7c-442a-a826-2eda84284737"
      },
      "execution_count": 11,
      "outputs": [
        {
          "output_type": "stream",
          "name": "stdout",
          "text": [
            "b\n"
          ]
        }
      ]
    },
    {
      "cell_type": "markdown",
      "source": [
        "Q10 Write a code to reverse the list [10, 20, 30, 40, 50].\n",
        "\n",
        "Ans"
      ],
      "metadata": {
        "id": "e5vNezPFo8Y6"
      }
    },
    {
      "cell_type": "code",
      "source": [
        "# Define the list\n",
        "my_list = [10, 20, 30, 40, 50]\n",
        "\n",
        "# Reverse the list\n",
        "my_list.reverse()\n",
        "\n",
        "# Print the reversed list\n",
        "print(my_list)\n"
      ],
      "metadata": {
        "colab": {
          "base_uri": "https://localhost:8080/"
        },
        "id": "vWAUESajpAfi",
        "outputId": "aa244073-3962-4a7a-e972-00dbea80f937"
      },
      "execution_count": 12,
      "outputs": [
        {
          "output_type": "stream",
          "name": "stdout",
          "text": [
            "[50, 40, 30, 20, 10]\n"
          ]
        }
      ]
    },
    {
      "cell_type": "markdown",
      "source": [
        "Q11 Write a code to create a tuple with the elements 10, 20, 30 and print it.\n",
        "\n",
        "Ans"
      ],
      "metadata": {
        "id": "8_5SJzbqpGoR"
      }
    },
    {
      "cell_type": "code",
      "source": [
        "# Create the tuple\n",
        "my_tuple = (10, 20, 30)\n",
        "\n",
        "# Print the tuple\n",
        "print(my_tuple)\n"
      ],
      "metadata": {
        "colab": {
          "base_uri": "https://localhost:8080/"
        },
        "id": "nimzzQJapLds",
        "outputId": "9d89824f-0bcf-4999-c71b-24f127e64afd"
      },
      "execution_count": 13,
      "outputs": [
        {
          "output_type": "stream",
          "name": "stdout",
          "text": [
            "(10, 20, 30)\n"
          ]
        }
      ]
    },
    {
      "cell_type": "markdown",
      "source": [
        "Q12  Write a code to access the first element of the tuple ('apple', 'banana', 'cherry').\n",
        "\n",
        "Ans\n"
      ],
      "metadata": {
        "id": "BHhyEsjwpTDZ"
      }
    },
    {
      "cell_type": "code",
      "source": [
        "# Define the tuple\n",
        "my_tuple = ('apple', 'banana', 'cherry')\n",
        "\n",
        "# Access the first element (index 0)\n",
        "first_element = my_tuple[0]\n",
        "\n",
        "# Print the first element\n",
        "print(first_element)\n"
      ],
      "metadata": {
        "colab": {
          "base_uri": "https://localhost:8080/"
        },
        "id": "zP3P4nNJpcnR",
        "outputId": "10a9c6eb-398a-44b3-8ce1-ab00b16cbc32"
      },
      "execution_count": 14,
      "outputs": [
        {
          "output_type": "stream",
          "name": "stdout",
          "text": [
            "apple\n"
          ]
        }
      ]
    },
    {
      "cell_type": "markdown",
      "source": [
        "Q13 13. Write a code to count how many times the number 2 appears in the tuple (1, 2, 3, 2, 4, 2).\n",
        "\n",
        "Ans"
      ],
      "metadata": {
        "id": "cs90ePCapk0R"
      }
    },
    {
      "cell_type": "code",
      "source": [
        "# Define the tuple\n",
        "my_tuple = (1, 2, 3, 2, 4, 2)\n",
        "\n",
        "# Count how many times the number 2 appears\n",
        "count_of_2 = my_tuple.count(2)\n",
        "\n",
        "# Print the result\n",
        "print(\"The number 2 appears\", count_of_2, \"times.\")\n"
      ],
      "metadata": {
        "colab": {
          "base_uri": "https://localhost:8080/"
        },
        "id": "um3y6bGApub7",
        "outputId": "01514044-c6a1-49e5-ea80-6e9cebe05fcd"
      },
      "execution_count": 15,
      "outputs": [
        {
          "output_type": "stream",
          "name": "stdout",
          "text": [
            "The number 2 appears 3 times.\n"
          ]
        }
      ]
    },
    {
      "cell_type": "markdown",
      "source": [
        "Q14 Write a code to find the index of the element \"cat\" in the tuple ('dog', 'cat', 'rabbit').\n",
        "\n",
        "Ans"
      ],
      "metadata": {
        "id": "mj6K2UDmpwxg"
      }
    },
    {
      "cell_type": "code",
      "source": [
        "# Define the tuple\n",
        "my_tuple = ('dog', 'cat', 'rabbit')\n",
        "\n",
        "# Find the index of the element \"cat\"\n",
        "index_of_cat = my_tuple.index('cat')\n",
        "\n",
        "# Print the index\n",
        "print(\"The index of 'cat' is:\", index_of_cat)\n"
      ],
      "metadata": {
        "colab": {
          "base_uri": "https://localhost:8080/"
        },
        "id": "momLRJpBp0Kk",
        "outputId": "fc5c14d0-5225-4e17-a4fe-e0ea92fb9f63"
      },
      "execution_count": 16,
      "outputs": [
        {
          "output_type": "stream",
          "name": "stdout",
          "text": [
            "The index of 'cat' is: 1\n"
          ]
        }
      ]
    },
    {
      "cell_type": "markdown",
      "source": [
        "Q15  Write a code to check if the element \"banana\" is in the tuple ('apple', 'orange', 'banana').\n",
        "\n",
        "Ans\n"
      ],
      "metadata": {
        "id": "ftVhyIYup9HR"
      }
    },
    {
      "cell_type": "code",
      "source": [
        "# Define the tuple\n",
        "my_tuple = ('apple', 'orange', 'banana')\n",
        "\n",
        "# Check if \"banana\" is in the tuple\n",
        "if \"banana\" in my_tuple:\n",
        "    print(\"Yes, 'banana' is in the tuple.\")\n",
        "else:\n",
        "    print(\"No, 'banana' is not in the tuple.\")\n"
      ],
      "metadata": {
        "colab": {
          "base_uri": "https://localhost:8080/"
        },
        "id": "3qoMnHpeqFnZ",
        "outputId": "fc2034da-ea52-4e8f-97a7-441e2cf3ac9b"
      },
      "execution_count": 17,
      "outputs": [
        {
          "output_type": "stream",
          "name": "stdout",
          "text": [
            "Yes, 'banana' is in the tuple.\n"
          ]
        }
      ]
    },
    {
      "cell_type": "markdown",
      "source": [
        "Q16 Write a code to create a set with the elements 1, 2, 3, 4, 5 and print it.\n",
        "\n",
        "Ans"
      ],
      "metadata": {
        "id": "4usYZT8GqHkb"
      }
    },
    {
      "cell_type": "code",
      "source": [
        "# Create the set\n",
        "my_set = {1, 2, 3, 4, 5}\n",
        "\n",
        "# Print the set\n",
        "print(my_set)\n"
      ],
      "metadata": {
        "colab": {
          "base_uri": "https://localhost:8080/"
        },
        "id": "bckWc9rUqOCS",
        "outputId": "e3141f94-5001-4087-8c28-903cd349cdc4"
      },
      "execution_count": 18,
      "outputs": [
        {
          "output_type": "stream",
          "name": "stdout",
          "text": [
            "{1, 2, 3, 4, 5}\n"
          ]
        }
      ]
    },
    {
      "cell_type": "markdown",
      "source": [
        "Q17 Write a code to add the element 6 to the set {1, 2, 3, 4}.\n",
        "\n",
        "Ans"
      ],
      "metadata": {
        "id": "d2shBPdaqQCa"
      }
    },
    {
      "cell_type": "code",
      "source": [
        "# Define the set\n",
        "my_set = {1, 2, 3, 4}\n",
        "\n",
        "# Add the element 6 to the set\n",
        "my_set.add(6)\n",
        "\n",
        "# Print the updated set\n",
        "print(my_set)\n"
      ],
      "metadata": {
        "colab": {
          "base_uri": "https://localhost:8080/"
        },
        "id": "J5URuMzXqWX1",
        "outputId": "ab19cfce-2631-46da-c7a6-131abf0f6b7c"
      },
      "execution_count": 19,
      "outputs": [
        {
          "output_type": "stream",
          "name": "stdout",
          "text": [
            "{1, 2, 3, 4, 6}\n"
          ]
        }
      ]
    },
    {
      "cell_type": "markdown",
      "source": [
        "Q18 Write a code to create a tuple with the elements 10, 20, 30 and print it.\n",
        "\n",
        "Ans"
      ],
      "metadata": {
        "id": "3ZI2ecrbqbrk"
      }
    },
    {
      "cell_type": "code",
      "source": [
        "# Create the tuple\n",
        "my_tuple = (10, 20, 30)\n",
        "\n",
        "# Print the tuple\n",
        "print(my_tuple)\n"
      ],
      "metadata": {
        "colab": {
          "base_uri": "https://localhost:8080/"
        },
        "id": "K1H3EUPQqji5",
        "outputId": "0d5adff4-dc16-468f-ddcd-ca0224b2598e"
      },
      "execution_count": 20,
      "outputs": [
        {
          "output_type": "stream",
          "name": "stdout",
          "text": [
            "(10, 20, 30)\n"
          ]
        }
      ]
    },
    {
      "cell_type": "markdown",
      "source": [
        "Q19  Write a code to access the first element of the tuple ('apple', 'banana', 'cherry').\n",
        "\n",
        "Ans"
      ],
      "metadata": {
        "id": "JnwvPjX2qltW"
      }
    },
    {
      "cell_type": "code",
      "source": [
        "# Define the tuple\n",
        "my_tuple = ('apple', 'banana', 'cherry')\n",
        "\n",
        "# Access the first element (index 0)\n",
        "first_element = my_tuple[0]\n",
        "\n",
        "# Print the first element\n",
        "print(first_element)\n"
      ],
      "metadata": {
        "colab": {
          "base_uri": "https://localhost:8080/"
        },
        "id": "FkeiD7x9qufE",
        "outputId": "7354acb5-9d2a-4d85-f2d1-be43a6ed2487"
      },
      "execution_count": 21,
      "outputs": [
        {
          "output_type": "stream",
          "name": "stdout",
          "text": [
            "apple\n"
          ]
        }
      ]
    },
    {
      "cell_type": "markdown",
      "source": [
        "Q20 Write a code to count how many times the number 2 appears in the tuple (1, 2, 3, 2, 4, 2).\n",
        "\n",
        "Ans"
      ],
      "metadata": {
        "id": "UULe89v1qv1e"
      }
    },
    {
      "cell_type": "code",
      "source": [
        "# Define the tuple\n",
        "my_tuple = (1, 2, 3, 2, 4, 2)\n",
        "\n",
        "# Count how many times the number 2 appears\n",
        "count_of_2 = my_tuple.count(2)\n",
        "\n",
        "# Print the result\n",
        "print(\"The number 2 appears\", count_of_2, \"times.\")\n"
      ],
      "metadata": {
        "colab": {
          "base_uri": "https://localhost:8080/"
        },
        "id": "hMKPm_CVq0-V",
        "outputId": "fee16bc3-1452-424f-bd85-d3a61c64caf4"
      },
      "execution_count": 22,
      "outputs": [
        {
          "output_type": "stream",
          "name": "stdout",
          "text": [
            "The number 2 appears 3 times.\n"
          ]
        }
      ]
    },
    {
      "cell_type": "markdown",
      "source": [
        "Q21 Write a code to find the index of the element \"cat\" in the tuple ('dog', 'cat', 'rabbit').\n",
        "\n",
        "Ans"
      ],
      "metadata": {
        "id": "sj05YLlWq78J"
      }
    },
    {
      "cell_type": "code",
      "source": [
        "# Define the tuple\n",
        "my_tuple = ('dog', 'cat', 'rabbit')\n",
        "\n",
        "# Find the index of the element \"cat\"\n",
        "index_of_cat = my_tuple.index('cat')\n",
        "\n",
        "# Print the index\n",
        "print(\"The index of 'cat' is:\", index_of_cat)\n"
      ],
      "metadata": {
        "colab": {
          "base_uri": "https://localhost:8080/"
        },
        "id": "vtwZT1HVrAr0",
        "outputId": "67ab6254-66d8-4306-91cb-1ce0cc5575eb"
      },
      "execution_count": 23,
      "outputs": [
        {
          "output_type": "stream",
          "name": "stdout",
          "text": [
            "The index of 'cat' is: 1\n"
          ]
        }
      ]
    },
    {
      "cell_type": "markdown",
      "source": [
        "Q22 Write a code to check if the element \"banana\" is in the tuple ('apple', 'orange', 'banana').\n",
        "\n",
        "Ans"
      ],
      "metadata": {
        "id": "jnbhOsZIrEu9"
      }
    },
    {
      "cell_type": "code",
      "source": [
        "# Define the tuple\n",
        "my_tuple = ('apple', 'orange', 'banana')\n",
        "\n",
        "# Check if \"banana\" is in the tuple\n",
        "if \"banana\" in my_tuple:\n",
        "    print(\"Yes, 'banana' is in the tuple.\")\n",
        "else:\n",
        "    print(\"No, 'banana' is not in the tuple.\")\n"
      ],
      "metadata": {
        "colab": {
          "base_uri": "https://localhost:8080/"
        },
        "id": "hMr2Ov-KrJZL",
        "outputId": "251f782f-c7e6-4d03-aef5-ea78dda591e1"
      },
      "execution_count": 24,
      "outputs": [
        {
          "output_type": "stream",
          "name": "stdout",
          "text": [
            "Yes, 'banana' is in the tuple.\n"
          ]
        }
      ]
    },
    {
      "cell_type": "markdown",
      "source": [
        "Q23 Write a code to create a set with the elements 1, 2, 3, 4, 5 and print it.\n",
        "\n",
        "Ans"
      ],
      "metadata": {
        "id": "pp8IL93WrNoq"
      }
    },
    {
      "cell_type": "code",
      "source": [
        "# Create the set\n",
        "my_set = {1, 2, 3, 4, 5}\n",
        "\n",
        "# Print the set\n",
        "print(my_set)\n"
      ],
      "metadata": {
        "colab": {
          "base_uri": "https://localhost:8080/"
        },
        "id": "0Z_z2IlarUZ9",
        "outputId": "67999a3a-e143-4175-91df-cfe7f50c8249"
      },
      "execution_count": 25,
      "outputs": [
        {
          "output_type": "stream",
          "name": "stdout",
          "text": [
            "{1, 2, 3, 4, 5}\n"
          ]
        }
      ]
    },
    {
      "cell_type": "markdown",
      "source": [
        "Q24 Write a code to add the element 6 to the set {1, 2, 3, 4}.\n",
        "\n",
        "Ans"
      ],
      "metadata": {
        "id": "CA0B2JRtrXZk"
      }
    },
    {
      "cell_type": "code",
      "source": [
        "# Define the set\n",
        "my_set = {1, 2, 3, 4}\n",
        "\n",
        "# Add the element 6 to the set\n",
        "my_set.add(6)\n",
        "\n",
        "# Print the updated set\n",
        "print(my_set)\n"
      ],
      "metadata": {
        "colab": {
          "base_uri": "https://localhost:8080/"
        },
        "id": "lyNsGXzurio2",
        "outputId": "5298141b-bc7e-42d5-dbfb-a00ae98c2ead"
      },
      "execution_count": 26,
      "outputs": [
        {
          "output_type": "stream",
          "name": "stdout",
          "text": [
            "{1, 2, 3, 4, 6}\n"
          ]
        }
      ]
    }
  ]
}