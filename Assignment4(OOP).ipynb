{
  "nbformat": 4,
  "nbformat_minor": 0,
  "metadata": {
    "colab": {
      "provenance": [],
      "authorship_tag": "ABX9TyMuLB4eHAYU444SbD1sena7",
      "include_colab_link": true
    },
    "kernelspec": {
      "name": "python3",
      "display_name": "Python 3"
    },
    "language_info": {
      "name": "python"
    }
  },
  "cells": [
    {
      "cell_type": "markdown",
      "metadata": {
        "id": "view-in-github",
        "colab_type": "text"
      },
      "source": [
        "<a href=\"https://colab.research.google.com/github/shrutirawat24/Data-Types-Structures/blob/main/Assignment4(OOP).ipynb\" target=\"_parent\"><img src=\"https://colab.research.google.com/assets/colab-badge.svg\" alt=\"Open In Colab\"/></a>"
      ]
    },
    {
      "cell_type": "markdown",
      "source": [
        "#ASSIGNMENT4(OOPs)"
      ],
      "metadata": {
        "id": "_UpvWF95MJ83"
      }
    },
    {
      "cell_type": "markdown",
      "source": [
        "Theory question-answers"
      ],
      "metadata": {
        "id": "cyqyhUZgMNm8"
      }
    },
    {
      "cell_type": "markdown",
      "source": [
        "Q1 What is Object-Oriented Programming (OOP)?\n",
        "\n",
        "Ans Object-Oriented Programming (OOP) is a programming paradigm in computer science that relies on the concept of classes and objects. It is used to structure a software program into simple, reusable pieces of code blueprints, which are used to create individual instances of objects."
      ],
      "metadata": {
        "id": "JnBwuLDhMSaP"
      }
    },
    {
      "cell_type": "markdown",
      "source": [
        "Q2 What is a class in OOP ?\n",
        "\n",
        "Ans A class is a user-defined data type. It consists of data members and member functions, which can be accessed and used by creating an instance of that class. It represents the set of properties or methods that are common to all objects of one type. A class is like a blueprint for an object."
      ],
      "metadata": {
        "id": "GvxGRFVMvfRP"
      }
    },
    {
      "cell_type": "markdown",
      "source": [
        "Q3 What is an object in OOP?\n",
        "\n",
        "Ans It is a basic unit of Object-Oriented Programming and represents the real-life entities. An Object is an instance of a Class. When a class is defined, no memory is allocated but when it is instantiated memory is allocated. An object has an identity, state, and behavior. Each object contains data and code to manipulate the data. Objects can interact without having to know details of each other’s data or code, it is sufficient to know the type of message accepted and type of response returned by the objects."
      ],
      "metadata": {
        "id": "sudXYMXswIiR"
      }
    },
    {
      "cell_type": "markdown",
      "source": [
        "Q4 What is the difference between abstraction and encapsulation?\n",
        "\n",
        "Ans Encapsulation\n",
        "Encapsulation is the concept of bundling data (attributes) and methods (functions) that operate on that data into a single unit, known as a class. Direct access to some components of an object is restricted while controlled access is provided through methods. Objects should be designed to hide the internal implementation details and expose only what is needed to interact with them from the outside.\n",
        "\n",
        "Abstraction\n",
        "Abstraction, on the other hand, is the process of simplifying complex reality by modeling classes based on essential properties and behaviors. It allows you to represent essential features of an object while hiding unnecessary details. It helps manage complexity by separating what an object does from how it achieves it."
      ],
      "metadata": {
        "id": "ywkgR35dxW14"
      }
    },
    {
      "cell_type": "markdown",
      "source": [
        "Q5 What are dunder methods in Python?\n",
        "\n",
        "Ans Dunder methods are the methods starting and ending with double underscores ‘__’. They are defined by built-in classes and commonly used for operator overloading."
      ],
      "metadata": {
        "id": "K5n3BqaTyDze"
      }
    },
    {
      "cell_type": "markdown",
      "source": [
        "Q6 Explain the concept of inheritance in OOP.\n",
        "\n",
        "Ans Inheritance is a process in which, new classes are created from the existing classes.Inheritance is a feature or a process in which, new classes are created from the existing classes."
      ],
      "metadata": {
        "id": "YRS7guSly8M8"
      }
    },
    {
      "cell_type": "markdown",
      "source": [
        "Q7 What is polymorphism in OOP?\n",
        "\n",
        "Ans It refers to the use of a single type entity (method, operator or object) to represent different types in different scenarios."
      ],
      "metadata": {
        "id": "fkRwsYaQzdBJ"
      }
    },
    {
      "cell_type": "markdown",
      "source": [
        "Q8  How is encapsulation achieved in Python?\n",
        "\n",
        "Ans  encapsulation refers to the bundling of data and methods that operate on the data into a single unit, typically a class. It also restricts direct access to some components, which helps protect the integrity of the data and ensures proper usage.Encapsulation is implemented using access specifiers to control access to class members:\n",
        "\n",
        "\n",
        "* Public Members: By default, attributes and methods are public and can accessed from outside the class.\n",
        "* Protected Members: Use a single underscore (_) prefix to indicate that an attribute or method is intended for internal use within the class and its subclasses.\n",
        "* Private Members: Use double underscores (__) prefix to make an attribute or method private. This leads to name mangling, making it more challenging to access from outside the class.\n",
        "\n"
      ],
      "metadata": {
        "id": "40pogQjtzvT8"
      }
    },
    {
      "cell_type": "markdown",
      "source": [
        "Q9 What is a constructor in Python?\n",
        "\n",
        "Ans A constructor is used to allocate memory and initialize the state of a new object. Constructors have the same name as the class and do not have a return type or void."
      ],
      "metadata": {
        "id": "r9C9WcmZ2dYR"
      }
    },
    {
      "cell_type": "markdown",
      "source": [
        "Q10 What are class and static methods in Python?\n",
        "\n",
        "Ans A class method is a method that is bound to the class and not the object of the class.They have the access to the state of the class as it takes a class parameter that points to the class and not the object instance.It can modify a class state that would apply across all the instances of the class. For example, it can modify a class variable that will be applicable to all the instances.\n",
        "\n",
        "A class method is a method that is bound to the class and not the object of the class.They have the access to the state of the class as it takes a class parameter that points to the class and not the object instance.It can modify a class state that would apply across all the instances of the class."
      ],
      "metadata": {
        "id": "VZWtp-7B23UT"
      }
    },
    {
      "cell_type": "markdown",
      "source": [
        "Q11 What is method overloading in Python?\n",
        "\n",
        "Ans Two or more methods have the same name but different numbers of parameters or different types of parameters, or both. These methods are called overloaded methods and this is called method overloading."
      ],
      "metadata": {
        "id": "lopQSQOy3rRj"
      }
    },
    {
      "cell_type": "markdown",
      "source": [
        "Q12 What is method overriding in OOP?\n",
        "\n",
        "Ans Overridingoccurs when a subclass implements a method which is already defined in the superclass or Base Class. The method in the subclass must have the same signature as in the superclass. It allows the subclass to modify the inherited methods.\n",
        "\n",
        "\n"
      ],
      "metadata": {
        "id": "9NL8UZSC3_Vh"
      }
    },
    {
      "cell_type": "markdown",
      "source": [
        "Q13 What is a property decorator in Python?\n",
        "\n",
        "Ans property decorator is a built-in decorator in Python which is helpful in defining the properties effortlessly without manually calling the inbuilt function property(). It is used to return the property attributes of a class from the stated getter, setter and deleter as parameters.\n"
      ],
      "metadata": {
        "id": "eXHE1WN54oXS"
      }
    },
    {
      "cell_type": "markdown",
      "source": [
        "Q14 Why is polymorphism important in OOP?\n",
        "\n",
        "Ans Polymorphism is the ability for something to take on many forms.We can create class objects that are inherited from the same parent class and have the same names but different behaviors. Variables and functions also exhibit polymorphic behavior in OOP by using a single interface with different underlying forms. This increases the language's ability to reuse the same lines of code on multiple occasions."
      ],
      "metadata": {
        "id": "QsF2Bcy75A4i"
      }
    },
    {
      "cell_type": "markdown",
      "source": [
        "Q15 What is an abstract class in Python?\n",
        "\n",
        "Ans An abstract class is a class that cannot be instantiated on its own and is designed to be a blueprint for other classes. Abstract classes allow us to define methods that must be implemented by subclasses, ensuring a consistent interface while still allowing the subclasses to provide specific implementations."
      ],
      "metadata": {
        "id": "UHr8Re3sRMeH"
      }
    },
    {
      "cell_type": "markdown",
      "source": [
        "Q16 What are the advantages of OOP?\n",
        "\n",
        "Ans We can build the programs from standard working modules that communicate with one another, rather than having to start writing the code from scratch which leads to saving of development time and higher productivity,\n",
        "OOP language allows to break the program into the bit-sized problems that can be solved easily (one object at a time).\n",
        "The new technology promises greater programmer productivity, better quality of software and lesser maintenance cost.\n",
        "OOP systems can be easily upgraded from small to large systems.\n",
        "It is possible that multiple instances of objects co-exist without any interference,\n",
        "It is very easy to partition the work in a project based on objects.\n",
        "It is possible to map the objects in problem domain to those in the program.\n",
        "The principle of data hiding helps the programmer to build secure programs which cannot be invaded by the code in other parts of the program.\n",
        "By using inheritance, we can eliminate redundant code and extend the use of existing classes.\n",
        "Message passing techniques is used for communication between objects which makes the interface descriptions with external systems much simpler.\n",
        "The data-centered design approach enables us to capture more details of model in an implementable form.\n"
      ],
      "metadata": {
        "id": "SSiPE_8HRV0y"
      }
    },
    {
      "cell_type": "markdown",
      "source": [
        "Q17  What is the difference between a class variable and an instance variable?\n",
        "\n",
        "Ans Class Variable is basically a static variable that can be declared anywhere at class level with static. Across different objects, these variables can have only one value. These variables are not tied to any particular object of the class, therefore, can share across all objects of the class.  \n",
        "\n",
        "\n",
        "Instance Variable is basically a class variable without a static modifier and is usually shared by all class instances. Across different objects, these variables can have different values. They are tied to a particular object instance of the class, therefore, the contents of an instance variable are totally independent of one object instance to others."
      ],
      "metadata": {
        "id": "n9HqZA_3RoTH"
      }
    },
    {
      "cell_type": "markdown",
      "source": [
        "Q18  What is multiple inheritance in Python?\n",
        "\n",
        "Ans When a class is derived from more than one base class it is called multiple Inheritance. The derived class inherits all the features of the base case."
      ],
      "metadata": {
        "id": "et9G0VEdR64H"
      }
    },
    {
      "cell_type": "markdown",
      "source": [
        "Q19 Explain the purpose of ‘’__str__’ and ‘__repr__’ ‘ methods in Python.\n",
        "\n",
        "Ans Python objects have two different string representations, namely __str__ and __repr__, in some cases these can return the same value, but there is an important difference between the two.__str__ is meant to return the object’s human-friendly representation, while __repr__ should return a valid python expression that can be used to recreate the object.\n"
      ],
      "metadata": {
        "id": "DWRZm1SSSEL7"
      }
    },
    {
      "cell_type": "markdown",
      "source": [
        "Q20 What is the significance of the ‘super()’ function in Python?\n",
        "\n",
        "Ans In Python, the super() function is used to refer to the parent class or superclass. It allows you to call methods defined in the superclass from the subclass, enabling you to extend and customize the functionality inherited from the parent class."
      ],
      "metadata": {
        "id": "M_KKTZgISW_h"
      }
    },
    {
      "cell_type": "markdown",
      "source": [
        "Q21 What is the significance of the __del__ method in Python?\n",
        "\n",
        "Ans The __del__ method is a special method in Python that is called when an object is about to be destroyed. It allows you to define specific cleanup actions that should be taken when an object is garbage collected. This method can be particularly useful for releasing external resources such as file handles, network connections, or database connections that the object may hold.\n",
        "\n"
      ],
      "metadata": {
        "id": "4ztWtnIBSizN"
      }
    },
    {
      "cell_type": "markdown",
      "source": [
        "Q22 What is the difference between @staticmethod and @classmethod in Python?\n",
        "\n",
        "Ans A static method does not receive an implicit first argument. A static method is also a method that is bound to the class and not the object of the class. This method can’t access or modify the class state. It is present in a class because it makes sense for the method to be present in class.\n",
        "\n",
        "The class method decorator is a built-in function decorator that is an expression that gets evaluated after your function is defined. The result of that evaluation shadows your function definition. A class method receives the class as an implicit first argument, just like an instance method receives the instance"
      ],
      "metadata": {
        "id": "cFtCLehfSsh4"
      }
    },
    {
      "cell_type": "markdown",
      "source": [
        "Q23 How does polymorphism work in Python with inheritance?\n",
        "\n",
        "Ans Polymorphism is a foundational concept in programming that allows entities like functions, methods or operators to behave differently based on the type of data they are handling. Derived from Greek, the term literally means “many forms”.\n",
        "\n",
        "Python’s dynamic typing and duck typing make it inherently polymorphic. Functions, operators and even built-in objects like loops exhibit polymorphic behavior."
      ],
      "metadata": {
        "id": "remZldO6TC4y"
      }
    },
    {
      "cell_type": "markdown",
      "source": [
        "Q24 What is method chaining in Python OOP?\n",
        "\n",
        "Ans Method chaining is a powerful technique in Python programming that allows us to call multiple methods on an object in a single, continuous line of code. This approach makes the code cleaner, more readable, and often easier to maintain."
      ],
      "metadata": {
        "id": "PE0rl_EaTSop"
      }
    },
    {
      "cell_type": "markdown",
      "source": [
        "Q25 What is the purpose of the __call__ method in Python?\n",
        "\n",
        "Ans method enables Python programmers to write classes where the instances behave like functions and can be called like a function.\n"
      ],
      "metadata": {
        "id": "WEIdvcrEThy_"
      }
    }
  ]
}